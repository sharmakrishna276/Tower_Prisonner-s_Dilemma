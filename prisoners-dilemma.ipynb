{
 "cells": [
  {
   "cell_type": "code",
   "execution_count": 8,
   "metadata": {},
   "outputs": [],
   "source": [
    "import csv\n",
    "from sklearn.cluster import DBSCAN\n",
    "import numpy as np\n",
    "import matplotlib.pyplot as plt"
   ]
  },
  {
   "cell_type": "markdown",
   "metadata": {},
   "source": [
    "Summary of procedure used for Q1 and Q2\n",
    "\n",
    "Our motive is to calculate a score corresponding to each player and then group the players \n",
    "having similar scores together.\n",
    "• The similarity of scores is decided by a threshold, which we have decided upon analysing the plot of number of clusters and various threshold values from 0.1 to 2. (We chose it 0.25 after analysing data)\n",
    "• For grouping players together, we have used clustering algorithms (DBSCAN clustering)"
   ]
  },
  {
   "cell_type": "markdown",
   "metadata": {},
   "source": [
    "Reading Data\n",
    "\n",
    "1. We represent a TRUST by a '1', and a CHEAT by a '0'.\n",
    "2. Each round of game between two players is represented by a list of two bit binary \n",
    "strings, wherein the list of games between player 1 and player 2, \"00\" represents \n",
    "(CHEAT, CHEAT), \"01\" represents (TRUST,TRUST), \"10\" represents \n",
    "(TRUST,CHEAT), \"11\" represents (TRUST,TRUST) for player1 and player 2 \n",
    "respectively."
   ]
  },
  {
   "cell_type": "code",
   "execution_count": 9,
   "metadata": {},
   "outputs": [],
   "source": [
    "def read_csv_file(filename):\n",
    "    data = []\n",
    "    with open(filename, 'r') as file:\n",
    "        csv_reader = csv.reader(file)\n",
    "        next(csv_reader)\n",
    "        for row in csv_reader:\n",
    "            data.append(row)\n",
    "    return data\n",
    "\n",
    "filename = 'input_game.csv'\n",
    "csv_data = read_csv_file(filename)\n",
    "\n",
    "def distance_metric(a,b):\n",
    "    return(abs(a-b))\n",
    "\n",
    "my_dict=dict()\n",
    "\n",
    "for row in csv_data:\n",
    "\n",
    "    if row[1] not in my_dict.keys():\n",
    "        temp = dict()\n",
    "        my_dict[row[1]] = temp\n",
    "\n",
    "    temp = my_dict[row[1]]\n",
    "\n",
    "    if row[2] not in temp.keys():\n",
    "        list = []\n",
    "        temp[row[2]]=list\n",
    "\n",
    "    s=\"\"\n",
    "\n",
    "    if row[3]==\"TRUST\":\n",
    "        s+=\"1\"\n",
    "    else:\n",
    "        s+=\"0\"\n",
    "\n",
    "    if row[4]==\"CHEAT\":\n",
    "        s+=\"0\"\n",
    "    else:\n",
    "        s+=\"1\"\n",
    "\n",
    "    temp[row[2]].append(s)\n",
    "\n",
    "    if row[2] not in my_dict.keys():\n",
    "        temp1 = dict()\n",
    "        my_dict[row[2]] = temp1\n",
    "\n",
    "    temp1 = my_dict[row[2]]\n",
    "\n",
    "    if row[1] not in temp1.keys():\n",
    "        list1 = []\n",
    "        temp1[row[1]]=list1\n",
    "\n",
    "    s1=\"\"\n",
    "\n",
    "    if row[4]==\"TRUST\":\n",
    "        s1+=\"1\"\n",
    "    else:\n",
    "        s1+=\"0\"\n",
    "\n",
    "    if row[3]==\"CHEAT\":\n",
    "        s1+=\"0\"\n",
    "    else:\n",
    "        s1+=\"1\"\n",
    "\n",
    "    temp1[row[1]].append(s1)"
   ]
  },
  {
   "cell_type": "markdown",
   "metadata": {},
   "source": [
    "Calculating Scores\n",
    "\n",
    "1. By doing a bit of analysis, we obtained that the minimum number of turns per game is \n",
    "40, while maximum is 80 and average is 60. I assumed that on an average first ten \n",
    "percent games (first 6 games) are independent of opponents' actions.\n",
    "2. We define a function f_i for each Player i, which takes four parameters (x1: #'00's, \n",
    "x2:#'01's, x3:#'10's, x4:#'11's) as input. We iterate from the seventh turn of each game \n",
    "and increment f_i(x1,x2,x3,x4) by 1 if Player i says '1' and decrement it by 1 if \n",
    "Player_i says '0'\n",
    "Once we have obtained f_i values for each Player i, we obtain the score for each player \n",
    "through the following procedure:\n",
    "1. Iterate over all possible keys (x1,x2,x3,x4) for which we have stored values.\n",
    "2. Let s=x1+x2+x3+x4\n",
    "3. The score is the sum of \n",
    "f_i(x1,x2,x3,x4)[(1+x1)/(80+s)][(1+x2)/(80+s)][(1+x3)/(80+s)][(1+x4)/(80+s)] \n",
    "over all possible keys defined in point 1.\n",
    "4. The number 80 is chosen because maximum possible value of x_i is 80, which is the \n",
    "maximum number of turns in the dataset."
   ]
  },
  {
   "cell_type": "code",
   "execution_count": 10,
   "metadata": {},
   "outputs": [],
   "source": [
    "score_dct = dict()\n",
    "\n",
    "for key in my_dict:\n",
    "\n",
    "    p_dict = dict()\n",
    "    score_dct[key] = p_dict\n",
    "\n",
    "    for key2 in my_dict[key]:\n",
    "\n",
    "        lst = my_dict[key][key2]\n",
    "        sz = len(lst)\n",
    "\n",
    "        c0=0\n",
    "        c1=0\n",
    "        c2=0\n",
    "        c3=0\n",
    "\n",
    "        for j in range(sz):\n",
    "\n",
    "            if (j>5):\n",
    "                t1 = (c0,c1,c2,c3)\n",
    "                if t1 not in p_dict:\n",
    "                    val = lst[j]\n",
    "                    if val==\"11\" or val==\"10\":\n",
    "                        p_dict[t1]=1\n",
    "                    else:\n",
    "                        p_dict[t1]=-1\n",
    "                else:\n",
    "                    val = lst[j]\n",
    "                    if val==\"11\" or val==\"10\":\n",
    "                        p_dict[t1]+=1\n",
    "                    else:\n",
    "                        p_dict[t1]-=1 \n",
    "\n",
    "            if lst[j]==\"00\":\n",
    "                c0+=1\n",
    "            elif lst[j]==\"01\":\n",
    "                c1+=1\n",
    "            elif lst[j]==\"10\":\n",
    "                c2+=1\n",
    "            else:\n",
    "                c3+=1\n",
    "\n",
    "score = dict()\n",
    "\n",
    "for key in score_dct:\n",
    "\n",
    "    tect = score_dct[key]\n",
    "    value=0\n",
    "\n",
    "    for key2 in tect:\n",
    "\n",
    "        x1=key2[0]\n",
    "        x2=key2[1]\n",
    "        x3=key2[2]\n",
    "        x4=key2[3]\n",
    "        t = x1+x2+x3+x4\n",
    "        value+=((tect[key2])*((1+x1)/(80+t))*((1+x2)/(80+t))*((1+x3)/(80+t))*((1+x4)/(80+t)))\n",
    "    \n",
    "    value*=1000\n",
    "    new_val = round(value,4)\n",
    "    new_key = int(key)\n",
    "    score[new_key] = new_val"
   ]
  },
  {
   "cell_type": "markdown",
   "metadata": {},
   "source": [
    "Plot of number of clusters vs thresholds"
   ]
  },
  {
   "cell_type": "code",
   "execution_count": 11,
   "metadata": {},
   "outputs": [
    {
     "data": {
      "image/png": "[encoded data removed]",
      "text/plain": [
       "<Figure size 576x432 with 1 Axes>"
      ]
     },
     "metadata": {
      "needs_background": "light"
     },
     "output_type": "display_data"
    }
   ],
   "source": [
    "sorted_dict = {key: score[key] for key in sorted(score)}\n",
    "sorted_dict_val = dict(sorted(score.items(), key=lambda item: item[1]))\n",
    "\n",
    "val_lst = []\n",
    "\n",
    "for key in sorted_dict_val:\n",
    "    # print(key,sorted_dict_val[key])\n",
    "    val_lst.append(sorted_dict_val[key])\n",
    "\n",
    "start = 0.00001\n",
    "stop = 2\n",
    "num_points = 100\n",
    "x = np.linspace(start, stop, num_points)\n",
    "y = []\n",
    "\n",
    "X = np.array(val_lst)\n",
    "X1 = X.reshape(-1, 1)\n",
    "\n",
    "for i in range(len(x)):\n",
    "    eps = x[i]\n",
    "    min_samples = 1\n",
    "    dbscan = DBSCAN(eps=eps, min_samples=min_samples)\n",
    "    dbscan.fit(X1)\n",
    "    labels = dbscan.labels_\n",
    "    y.append(labels[-1]+1)\n",
    "\n",
    "plt.figure(figsize=(8, 6))\n",
    "plt.plot(x, y, marker='o', linestyle='-', color='b', label='Data Points')\n",
    "plt.title('Distribution of clusters')\n",
    "plt.xlabel('Thresholds')\n",
    "plt.ylabel('Number of clusters')\n",
    "plt.grid(True)\n",
    "plt.legend()\n",
    "plt.tight_layout()\n",
    "plt.show()"
   ]
  },
  {
   "cell_type": "markdown",
   "metadata": {},
   "source": [
    "Seeing the elbow at 0.75, we decided to set the threshold to be 0.75. The value of number of clusters corresponding to 0.75 threshold is 13."
   ]
  },
  {
   "cell_type": "code",
   "execution_count": 12,
   "metadata": {},
   "outputs": [
    {
     "name": "stdout",
     "output_type": "stream",
     "text": [
      "Number of clusters is: 13\n"
     ]
    }
   ],
   "source": [
    "X = np.array(val_lst)\n",
    "X1 = X.reshape(-1, 1)\n",
    "\n",
    "for i in range(len(x)):\n",
    "    eps = 0.75\n",
    "    min_samples = 1\n",
    "    dbscan = DBSCAN(eps=eps, min_samples=min_samples)\n",
    "    dbscan.fit(X1)\n",
    "    labels = dbscan.labels_\n",
    "print(\"Number of clusters is:\",labels[-1]+1)"
   ]
  },
  {
   "cell_type": "markdown",
   "metadata": {},
   "source": [
    "2-D array of player numbers having the same strategy"
   ]
  },
  {
   "cell_type": "code",
   "execution_count": 13,
   "metadata": {},
   "outputs": [
    {
     "name": "stdout",
     "output_type": "stream",
     "text": [
      "[[1, 4, 5, 7, 9, 10, 11, 13, 15, 16, 17, 18, 19, 20, 21, 24, 25, 26, 27, 28, 29, 30, 32, 34, 35, 39, 40, 41, 42, 44, 46, 47, 48, 49, 51, 52, 54, 56, 58, 59, 60, 62, 63, 66, 67, 68, 70, 71, 72, 73, 75, 76, 77, 78, 79, 81, 82, 83, 84, 87, 88, 90, 91, 92, 93, 94, 95, 98, 100, 102, 103, 104, 106, 107, 108, 109, 110, 111, 112, 113, 114, 115, 116, 117, 118, 119, 120, 121, 122, 123, 124, 125, 128, 129, 130, 132, 134, 135, 136, 137, 138, 140, 142, 143, 144, 145, 146, 147, 149, 150, 151, 152, 153, 155, 156, 157, 158, 159, 160, 162, 163, 164, 165, 166, 168, 169, 170, 171, 172, 174, 175, 177, 178, 179, 180, 181, 182, 183, 184, 185, 187, 188, 192, 193, 194, 195, 198, 201], [2, 3, 6, 12, 43, 45, 69, 74, 80, 86, 89, 99, 126, 154, 161, 176, 186, 199], [8, 31, 127, 133, 191, 196], [14, 22, 37, 50, 53, 55, 57, 64, 85, 96, 97, 141, 189, 197], [23, 33], [36, 65, 148, 173, 200], [38, 105], [61], [101], [131], [139], [167], [190], ]\n"
     ]
    }
   ],
   "source": [
    "sorted_dict = {key: score[key] for key in sorted(score)}\n",
    "\n",
    "val_lst = []\n",
    "\n",
    "for key in sorted_dict:\n",
    "    val_lst.append(sorted_dict[key])\n",
    "\n",
    "X = np.array(val_lst)\n",
    "X1 = X.reshape(-1, 1)\n",
    "\n",
    "eps = 0.75\n",
    "min_samples = 1\n",
    "dbscan = DBSCAN(eps=eps, min_samples=min_samples)\n",
    "dbscan.fit(X1)\n",
    "labels = dbscan.labels_\n",
    "\n",
    "final_dict = dict()\n",
    "\n",
    "for i in range(len(labels)):\n",
    "\n",
    "    if labels[i] not in final_dict:\n",
    "        final_dict[labels[i]] = []\n",
    "    \n",
    "    final_dict[labels[i]].append(i+1)\n",
    "\n",
    "print('[',end='')\n",
    "for key in final_dict:\n",
    "    print(final_dict[key],end=', ')\n",
    "print(']')"
   ]
  }
 ],
 "metadata": {
  "kernelspec": {
   "display_name": "Python 3",
   "language": "python",
   "name": "python3"
  },
  "language_info": {
   "codemirror_mode": {
    "name": "ipython",
    "version": 3
   },
   "file_extension": ".py",
   "mimetype": "text/x-python",
   "name": "python",
   "nbconvert_exporter": "python",
   "pygments_lexer": "ipython3",
   "version": "3.10.12"
  }
 },
 "nbformat": 4,
 "nbformat_minor": 2
}
